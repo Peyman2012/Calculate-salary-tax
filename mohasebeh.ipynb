{
 "cells": [
  {
   "cell_type": "code",
   "execution_count": 1,
   "metadata": {},
   "outputs": [
    {
     "name": "stdout",
     "output_type": "stream",
     "text": [
      "Enter a:2\n"
     ]
    }
   ],
   "source": [
    "a=int(input(\"Enter a:\"))"
   ]
  },
  {
   "cell_type": "code",
   "execution_count": 2,
   "metadata": {},
   "outputs": [
    {
     "name": "stdout",
     "output_type": "stream",
     "text": [
      "Enter id:1\n",
      "Enter h:100\n",
      "Enter hp:9000\n",
      "id = 1   ov =  270000.0   p = 1170000.0\n",
      "Enter id:3\n",
      "Enter h:37\n",
      "Enter hp:8000\n",
      "id = 3   ov =  0   p = 296000\n"
     ]
    }
   ],
   "source": [
    "for i in range(0,a):\n",
    "    id=int(input(\"Enter id:\"))\n",
    "    h=int(input(\"Enter h:\"))\n",
    "    hp=int(input(\"Enter hp:\"))\n",
    "    ov=0\n",
    "    if h>40:\n",
    "        ov=0.5*(h-40)*hp\n",
    "    p=ov+hp*h\n",
    "    print(\"id =\", id,\"  ov = \", ov,\"  p =\", p)"
   ]
  }
 ],
 "metadata": {
  "kernelspec": {
   "display_name": "Python 3",
   "language": "python",
   "name": "python3"
  },
  "language_info": {
   "codemirror_mode": {
    "name": "ipython",
    "version": 3
   },
   "file_extension": ".py",
   "mimetype": "text/x-python",
   "name": "python",
   "nbconvert_exporter": "python",
   "pygments_lexer": "ipython3",
   "version": "3.6.13"
  }
 },
 "nbformat": 4,
 "nbformat_minor": 2
}
